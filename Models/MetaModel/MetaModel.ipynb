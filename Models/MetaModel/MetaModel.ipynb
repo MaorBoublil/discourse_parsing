{
  "cells": [
    {
      "cell_type": "code",
      "execution_count": null,
      "metadata": {
        "id": "ecPKbMImwfSe"
      },
      "outputs": [],
      "source": [
        "import pandas as pd\n",
        "from sklearn.metrics import f1_score, recall_score, classification_report\n",
        "import numpy as np\n",
        "from sklearn.linear_model import LogisticRegression\n",
        "from sklearn.multioutput import MultiOutputClassifier\n",
        "from sklearn.ensemble import RandomForestClassifier\n",
        "import xgboost as xgb\n",
        "from matplotlib import pyplot\n",
        "from collections import Counter"
      ]
    },
    {
      "cell_type": "code",
      "source": [
        "categories = {\n",
        "    'Promotingdiscussion':\n",
        "     [\"CounterArgument\", \"Clarification\", \"RequestClarification\", \"Extension\", \"Answer\", \"AttackValidity\", \"Moderation\", \"Personal\", \"ViableTransformation\"],\n",
        "     'Low responsiveness':\n",
        "     [\"Convergence\", \"NegTransformation\", \"NoReasonDisagreement\", \"AgreeToDisagree\", \"Repetition\", \"BAD\"],\n",
        "     'Tone & Style':\n",
        "     [\"Complaint\", \"Positive\", \"Aggressive\", \"Sarcasm\", \"WQualifiers\", \"Ridicule\"],\n",
        "    'Easing tension': \n",
        "    [\"Sources\", \"Softening\", \"DoubleVoicing\", \"AgreeBut\"],\n",
        "    'Intensifying Tension':\n",
        "    [\"Nitpicking\", \"CriticalQuestion\", \"DirectNo\", \"Irrelevance\", \"Alternative\", \"RephraseAttack\"]\n",
        "\n",
        "}"
      ],
      "metadata": {
        "id": "kaxXq5hSAdJ4"
      },
      "execution_count": null,
      "outputs": []
    },
    {
      "cell_type": "code",
      "source": [
        "t_name = ['Aggressive', 'AgreeBut', 'AgreeToDisagree', 'Alternative',\n",
        "       'Answer', 'AttackValidity', 'BAD', 'Clarification', 'Complaint',\n",
        "       'Convergence', 'CounterArgument', 'CriticalQuestion', 'DirectNo',\n",
        "       'DoubleVoicing', 'Extension', 'Irrelevance', 'Moderation',\n",
        "       'NegTransformation', 'Nitpicking', 'NoReasonDisagreement', 'Personal',\n",
        "       'Positive', 'Repetition', 'RephraseAttack', 'RequestClarification',\n",
        "       'Ridicule', 'Sarcasm', 'Softening', 'Sources', 'ViableTransformation',\n",
        "       'WQualifiers']"
      ],
      "metadata": {
        "id": "DakTQg7PFfDn"
      },
      "execution_count": null,
      "outputs": []
    },
    {
      "cell_type": "code",
      "execution_count": null,
      "metadata": {
        "id": "aJv5u43yIW0-"
      },
      "outputs": [],
      "source": [
        "def func(x):\n",
        "  return list([float(i) for i in x.replace('\\n', '').replace('[', '').replace(']', '').split(' ') if i != ''])"
      ]
    },
    {
      "cell_type": "code",
      "execution_count": null,
      "metadata": {
        "id": "RNQnOJCPRrvM"
      },
      "outputs": [],
      "source": [
        "def convert(df):\n",
        "  df['prob-predict'] = df['prob-predict'].apply(lambda x: func(x))\n",
        "  df['true-label'] = df['true-label'].apply(lambda x: func(x))\n",
        "  return df"
      ]
    },
    {
      "cell_type": "code",
      "execution_count": null,
      "metadata": {
        "id": "drc0rjJoPm9E"
      },
      "outputs": [],
      "source": [
        "train_albert = convert(pd.read_csv('train_albert.csv'))\n",
        "test_albert = convert(pd.read_csv('test_albert.csv'))\n",
        "\n",
        "train_roberta = convert(pd.read_csv('train_roberta.csv'))\n",
        "test_roberta = convert(pd.read_csv('test_roberta.csv'))"
      ]
    },
    {
      "cell_type": "code",
      "execution_count": null,
      "metadata": {
        "id": "c0Q5sK1TTJ2Z"
      },
      "outputs": [],
      "source": [
        "_c = [f'{x}_albert' for x in t_name] + [f'{x}_roberta' for x in t_name] + t_name\n",
        "\n",
        "train_rows = []\n",
        "for idx in range(len(train_albert)):\n",
        "  train_rows.append(train_albert['prob-predict'][idx] + train_roberta['prob-predict'][idx] + train_albert['true-label'][idx])\n",
        "\n",
        "test_rows = []\n",
        "for idx in range(len(test_albert)):\n",
        "  test_rows.append(test_albert['prob-predict'][idx] + test_roberta['prob-predict'][idx] + test_albert['true-label'][idx])\n",
        "\n",
        "train_df = pd.DataFrame(train_rows, columns = _c)\n",
        "test_df = pd.DataFrame(test_rows, columns = _c)"
      ]
    },
    {
      "cell_type": "code",
      "execution_count": null,
      "metadata": {
        "colab": {
          "base_uri": "https://localhost:8080/"
        },
        "id": "tFY_hcDsY3MR",
        "outputId": "619edd1d-ec3b-4b65-8420-9d11c3e559e7"
      },
      "outputs": [
        {
          "output_type": "execute_result",
          "data": {
            "text/plain": [
              "MultiOutputClassifier(estimator=XGBClassifier())"
            ]
          },
          "metadata": {},
          "execution_count": 10
        }
      ],
      "source": [
        "X = train_df[[f'{x}_albert' for x in t_name] + [f'{x}_roberta' for x in t_name]]\n",
        "y = train_df[t_name]\n",
        "clf = MultiOutputClassifier(xgb.XGBClassifier())\n",
        "# moel.fit(X, y)\n",
        "#clf = MultiOutputClassifier(LogisticRegression(solver='lbfgs', max_iter=1000)).fit(X, y)\n",
        "# clf = MultiOutputClassifier(RandomForestClassifier(bootstrap=True, max_depth=70, max_features='auto', min_samples_leaf=4, min_samples_split=10, n_estimators=400))\n",
        "clf.fit(X, y)"
      ]
    },
    {
      "cell_type": "code",
      "source": [
        "clf.estimators_[0].feature_importances_"
      ],
      "metadata": {
        "colab": {
          "base_uri": "https://localhost:8080/"
        },
        "id": "9t4pfhiY_Pva",
        "outputId": "bc8985ec-f82f-48bd-fa27-22020ad42706"
      },
      "execution_count": null,
      "outputs": [
        {
          "output_type": "execute_result",
          "data": {
            "text/plain": [
              "array([0.04571972, 0.02154673, 0.01086542, 0.01515489, 0.        ,\n",
              "       0.01974204, 0.01811899, 0.01415925, 0.02772407, 0.00970944,\n",
              "       0.01349302, 0.        , 0.01721682, 0.01113943, 0.01861747,\n",
              "       0.01654915, 0.00437542, 0.0132073 , 0.01898925, 0.01858661,\n",
              "       0.01681464, 0.01381984, 0.01056313, 0.01220473, 0.01815817,\n",
              "       0.01571908, 0.01721885, 0.01442042, 0.01036456, 0.00185069,\n",
              "       0.0151953 , 0.07898295, 0.01128139, 0.01330814, 0.01413496,\n",
              "       0.01751835, 0.0149625 , 0.01585782, 0.01386907, 0.022943  ,\n",
              "       0.01793547, 0.02504605, 0.01549398, 0.02115137, 0.02051779,\n",
              "       0.01721355, 0.01518065, 0.0117052 , 0.01598461, 0.03311272,\n",
              "       0.01231526, 0.01938961, 0.01217069, 0.01237457, 0.01465809,\n",
              "       0.01245774, 0.00899449, 0.00785571, 0.00991169, 0.01304277,\n",
              "       0.0121067 , 0.00727872], dtype=float32)"
            ]
          },
          "metadata": {},
          "execution_count": 19
        }
      ]
    },
    {
      "cell_type": "code",
      "source": [
        "feat_impts = [] \n",
        "top_1_dict, top_2_dict = {}, {}\n",
        "for index, c in enumerate(clf.estimators_):\n",
        "  # print(t_name[index])\n",
        "  # print([train_df.columns[i] for i in np.argpartition(c.feature_importances_, -2)[-2:]])\n",
        "  top_1_dict[t_name[index]] = train_df.columns[np.argmax(c.feature_importances_)]\n",
        "  top_2_dict[t_name[index]] = [train_df.columns[i] for i in np.argpartition(c.feature_importances_, -2)[-2:]]\n",
        "  # print(c.feature_importances_)\n",
        "  feat_impts.append(c.feature_importances_)\n",
        "\n",
        "a = np.mean(feat_impts, axis=0)"
      ],
      "metadata": {
        "id": "Ppuj0AWU0DfC"
      },
      "execution_count": null,
      "outputs": []
    },
    {
      "cell_type": "code",
      "source": [
        "res_dict = {key: [] for key in categories.keys()}"
      ],
      "metadata": {
        "id": "EFggD2Y703Ll"
      },
      "execution_count": null,
      "outputs": []
    },
    {
      "cell_type": "code",
      "source": [
        "for key,value in categories.items():\n",
        "  for v in value:\n",
        "    print(top_1_dict[v].split('_')[1])\n",
        "    res_dict[key].append(top_1_dict[v].split('_')[1])"
      ],
      "metadata": {
        "id": "NZRAKiXnB0YT"
      },
      "execution_count": null,
      "outputs": []
    },
    {
      "cell_type": "code",
      "source": [
        "for key,value in res_dict.items():\n",
        "  print(key)\n",
        "  c = Counter(value)\n",
        "  print(c)"
      ],
      "metadata": {
        "colab": {
          "base_uri": "https://localhost:8080/"
        },
        "id": "p5wiqjuhCJyO",
        "outputId": "c2a747d3-bc19-46cc-ad95-3e9f1f80b5ec"
      },
      "execution_count": null,
      "outputs": [
        {
          "output_type": "stream",
          "name": "stdout",
          "text": [
            "Promotingdiscussion\n",
            "Counter({'albert': 6, 'roberta': 3})\n",
            "Low responsiveness\n",
            "Counter({'albert': 4, 'roberta': 2})\n",
            "Tone & Style\n",
            "Counter({'albert': 4, 'roberta': 2})\n",
            "Easing tension\n",
            "Counter({'roberta': 2, 'albert': 2})\n",
            "Intensifying Tension\n",
            "Counter({'roberta': 4, 'albert': 2})\n"
          ]
        }
      ]
    },
    {
      "cell_type": "code",
      "source": [
        "for key,value in top_2_dict.items():\n",
        "  for v in value:\n",
        "    if v.split('_')[0] != key:\n",
        "      print(key,value)"
      ],
      "metadata": {
        "colab": {
          "base_uri": "https://localhost:8080/"
        },
        "id": "CWxkv1mwAEDQ",
        "outputId": "d1ce8221-9676-4359-f82f-21a304d8a1c6"
      },
      "execution_count": null,
      "outputs": [
        {
          "output_type": "stream",
          "name": "stdout",
          "text": [
            "Alternative ['RequestClarification_roberta', 'Alternative_albert']\n",
            "DoubleVoicing ['NegTransformation_albert', 'DoubleVoicing_albert']\n",
            "Nitpicking ['Irrelevance_roberta', 'Nitpicking_roberta']\n",
            "Repetition ['Complaint_roberta', 'Repetition_albert']\n",
            "ViableTransformation ['Sarcasm_roberta', 'ViableTransformation_albert']\n"
          ]
        }
      ]
    },
    {
      "cell_type": "code",
      "execution_count": null,
      "metadata": {
        "id": "T6ST_bUFadjD"
      },
      "outputs": [],
      "source": [
        "preds = clf.predict(train_df[[f'{x}_albert' for x in t_name] + [f'{x}_roberta' for x in t_name]])"
      ]
    },
    {
      "cell_type": "code",
      "execution_count": null,
      "metadata": {
        "id": "3zQVDW8Mb2W8"
      },
      "outputs": [],
      "source": [
        "s_df = pd.DataFrame()"
      ]
    },
    {
      "cell_type": "code",
      "execution_count": null,
      "metadata": {
        "id": "b2TTNj-Fb3NS"
      },
      "outputs": [],
      "source": [
        "s_df['prob-predict'] = [list(x) for x in preds]\n",
        "s_df['true-label'] = test_roberta['true-label']"
      ]
    },
    {
      "cell_type": "code",
      "execution_count": null,
      "metadata": {
        "id": "4nN0k1y0cRmM"
      },
      "outputs": [],
      "source": [
        "for threshold in [0.6]:\n",
        "  print(f'Threshold: {threshold}')\n",
        "  label_dict = {}\n",
        "  pred_dict = {}\n",
        "  for row in s_df.itertuples():\n",
        "    preds = row[1]\n",
        "    labels = row[2]\n",
        "    for idx in range(len(preds)):\n",
        "        pred_dict[idx] = pred_dict.get(idx, []) + [1 if preds[idx] > threshold else 0]\n",
        "        label_dict[idx] = label_dict.get(idx, []) + [labels[idx]]\n",
        "  print(classification_report(np.array([label_dict[key] for key in label_dict]).T, np.array([pred_dict[key] for key in pred_dict]).T,target_names=t_name))\n",
        "  d = classification_report(np.array([label_dict[key] for key in label_dict]).T, np.array([pred_dict[key] for key in pred_dict]).T,target_names=t_name, output_dict=True)"
      ]
    },
    {
      "cell_type": "code",
      "source": [],
      "metadata": {
        "id": "5fAiZ6YsQoIM"
      },
      "execution_count": null,
      "outputs": []
    }
  ],
  "metadata": {
    "colab": {
      "provenance": []
    },
    "kernelspec": {
      "display_name": "Python 3",
      "name": "python3"
    },
    "language_info": {
      "name": "python"
    }
  },
  "nbformat": 4,
  "nbformat_minor": 0
}